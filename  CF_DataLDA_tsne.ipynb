{
 "cells": [
  {
   "cell_type": "code",
   "execution_count": 1,
   "metadata": {},
   "outputs": [],
   "source": [
    "import pandas as pd\n",
    "import numpy as np\n",
    "import lda\n",
    "from sklearn.feature_extraction.text import CountVectorizer\n",
    "from sklearn.manifold import TSNE\n",
    "import bokeh.plotting as bp\n",
    "from bokeh.plotting import save\n",
    "from bokeh.models import HoverTool\n"
   ]
  },
  {
   "cell_type": "code",
   "execution_count": 2,
   "metadata": {},
   "outputs": [],
   "source": [
    "df_cf = pd.read_csv('Data/CF_Fatma_label_confidence_judgments_finalized_clean_text_28_05_2018.csv')"
   ]
  },
  {
   "cell_type": "code",
   "execution_count": 15,
   "metadata": {},
   "outputs": [
    {
     "data": {
      "text/html": [
       "<div>\n",
       "<table border=\"1\" class=\"dataframe\">\n",
       "  <thead>\n",
       "    <tr style=\"text-align: right;\">\n",
       "      <th></th>\n",
       "      <th>Unnamed: 0</th>\n",
       "      <th>_unit_id</th>\n",
       "      <th>_golden</th>\n",
       "      <th>_unit_state_x</th>\n",
       "      <th>_trusted_judgments</th>\n",
       "      <th>_last_judgment_at_x</th>\n",
       "      <th>violence_judgment</th>\n",
       "      <th>violence</th>\n",
       "      <th>violence_confidence</th>\n",
       "      <th>protest_judgment_x</th>\n",
       "      <th>protest</th>\n",
       "      <th>protest_confidence</th>\n",
       "      <th>created_at</th>\n",
       "      <th>id</th>\n",
       "      <th>proccd_text</th>\n",
       "      <th>Fatma_protest</th>\n",
       "      <th>Fatma_violence</th>\n",
       "      <th>clean_text</th>\n",
       "    </tr>\n",
       "  </thead>\n",
       "  <tbody>\n",
       "    <tr>\n",
       "      <th>0</th>\n",
       "      <td>0</td>\n",
       "      <td>1657977939</td>\n",
       "      <td>False</td>\n",
       "      <td>finalized</td>\n",
       "      <td>3</td>\n",
       "      <td>3/30/2018 15:01:20</td>\n",
       "      <td>\"nan\"</td>\n",
       "      <td>0.0</td>\n",
       "      <td>1.0000</td>\n",
       "      <td>\"000\"</td>\n",
       "      <td>0</td>\n",
       "      <td>1.0000</td>\n",
       "      <td>Sat Jun 15 12:14:33 +0000 2013</td>\n",
       "      <td>3.460000e+17</td>\n",
       "      <td>lawn goose clothes lot DD outfit pattern sewin...</td>\n",
       "      <td>0</td>\n",
       "      <td>0</td>\n",
       "      <td>lawn goose clothes lot outfit pattern sewing u...</td>\n",
       "    </tr>\n",
       "    <tr>\n",
       "      <th>1</th>\n",
       "      <td>1</td>\n",
       "      <td>1657977940</td>\n",
       "      <td>False</td>\n",
       "      <td>finalized</td>\n",
       "      <td>3</td>\n",
       "      <td>3/30/2018 15:11:00</td>\n",
       "      <td>\"010\"</td>\n",
       "      <td>0.0</td>\n",
       "      <td>0.6606</td>\n",
       "      <td>\"111\"</td>\n",
       "      <td>1</td>\n",
       "      <td>1.0000</td>\n",
       "      <td>Tue Jun 04 16:04:35 +0000 2013</td>\n",
       "      <td>3.420000e+17</td>\n",
       "      <td>rt usrId turkish police have blacked out id nu...</td>\n",
       "      <td>1</td>\n",
       "      <td>0</td>\n",
       "      <td>police blacked id numbers helmuts</td>\n",
       "    </tr>\n",
       "    <tr>\n",
       "      <th>2</th>\n",
       "      <td>2</td>\n",
       "      <td>1657977941</td>\n",
       "      <td>False</td>\n",
       "      <td>finalized</td>\n",
       "      <td>3</td>\n",
       "      <td>3/30/2018 15:05:25</td>\n",
       "      <td>\"000\"</td>\n",
       "      <td>0.0</td>\n",
       "      <td>1.0000</td>\n",
       "      <td>\"111\"</td>\n",
       "      <td>1</td>\n",
       "      <td>1.0000</td>\n",
       "      <td>Sat Jun 01 07:12:41 +0000 2013</td>\n",
       "      <td>3.410000e+17</td>\n",
       "      <td>rt usrId #occupy #taksim protesters in #istanb...</td>\n",
       "      <td>1</td>\n",
       "      <td>0</td>\n",
       "      <td>occupy call akp govt</td>\n",
       "    </tr>\n",
       "    <tr>\n",
       "      <th>3</th>\n",
       "      <td>3</td>\n",
       "      <td>1657977942</td>\n",
       "      <td>False</td>\n",
       "      <td>finalized</td>\n",
       "      <td>3</td>\n",
       "      <td>04/06/18 11:49</td>\n",
       "      <td>\"1\"</td>\n",
       "      <td>0.0</td>\n",
       "      <td>0.0000</td>\n",
       "      <td>\"010\"</td>\n",
       "      <td>0</td>\n",
       "      <td>0.6767</td>\n",
       "      <td>Sun Jun 09 14:53:50 +0000 2013</td>\n",
       "      <td>3.440000e+17</td>\n",
       "      <td>rt usrId usrId erdogan says vandals entering m...</td>\n",
       "      <td>0</td>\n",
       "      <td>0</td>\n",
       "      <td>erdogan says vandals entering mosques beer bot...</td>\n",
       "    </tr>\n",
       "    <tr>\n",
       "      <th>4</th>\n",
       "      <td>4</td>\n",
       "      <td>1657977943</td>\n",
       "      <td>False</td>\n",
       "      <td>finalized</td>\n",
       "      <td>3</td>\n",
       "      <td>3/30/2018 15:33:35</td>\n",
       "      <td>\"nan\"</td>\n",
       "      <td>0.0</td>\n",
       "      <td>1.0000</td>\n",
       "      <td>\"000\"</td>\n",
       "      <td>0</td>\n",
       "      <td>1.0000</td>\n",
       "      <td>Sat Jun 01 22:08:17 +0000 2013</td>\n",
       "      <td>3.410000e+17</td>\n",
       "      <td>photoset forest dreams turkey needs support as...</td>\n",
       "      <td>0</td>\n",
       "      <td>0</td>\n",
       "      <td>photoset forest dreams needs support always me...</td>\n",
       "    </tr>\n",
       "  </tbody>\n",
       "</table>\n",
       "</div>"
      ],
      "text/plain": [
       "   Unnamed: 0    _unit_id _golden _unit_state_x  _trusted_judgments  \\\n",
       "0           0  1657977939   False     finalized                   3   \n",
       "1           1  1657977940   False     finalized                   3   \n",
       "2           2  1657977941   False     finalized                   3   \n",
       "3           3  1657977942   False     finalized                   3   \n",
       "4           4  1657977943   False     finalized                   3   \n",
       "\n",
       "  _last_judgment_at_x violence_judgment  violence  violence_confidence  \\\n",
       "0  3/30/2018 15:01:20             \"nan\"       0.0               1.0000   \n",
       "1  3/30/2018 15:11:00             \"010\"       0.0               0.6606   \n",
       "2  3/30/2018 15:05:25             \"000\"       0.0               1.0000   \n",
       "3      04/06/18 11:49               \"1\"       0.0               0.0000   \n",
       "4  3/30/2018 15:33:35             \"nan\"       0.0               1.0000   \n",
       "\n",
       "  protest_judgment_x  protest  protest_confidence  \\\n",
       "0              \"000\"        0              1.0000   \n",
       "1              \"111\"        1              1.0000   \n",
       "2              \"111\"        1              1.0000   \n",
       "3              \"010\"        0              0.6767   \n",
       "4              \"000\"        0              1.0000   \n",
       "\n",
       "                       created_at            id  \\\n",
       "0  Sat Jun 15 12:14:33 +0000 2013  3.460000e+17   \n",
       "1  Tue Jun 04 16:04:35 +0000 2013  3.420000e+17   \n",
       "2  Sat Jun 01 07:12:41 +0000 2013  3.410000e+17   \n",
       "3  Sun Jun 09 14:53:50 +0000 2013  3.440000e+17   \n",
       "4  Sat Jun 01 22:08:17 +0000 2013  3.410000e+17   \n",
       "\n",
       "                                         proccd_text  Fatma_protest  \\\n",
       "0  lawn goose clothes lot DD outfit pattern sewin...              0   \n",
       "1  rt usrId turkish police have blacked out id nu...              1   \n",
       "2  rt usrId #occupy #taksim protesters in #istanb...              1   \n",
       "3  rt usrId usrId erdogan says vandals entering m...              0   \n",
       "4  photoset forest dreams turkey needs support as...              0   \n",
       "\n",
       "   Fatma_violence                                         clean_text  \n",
       "0               0  lawn goose clothes lot outfit pattern sewing u...  \n",
       "1               0                  police blacked id numbers helmuts  \n",
       "2               0                               occupy call akp govt  \n",
       "3               0  erdogan says vandals entering mosques beer bot...  \n",
       "4               0  photoset forest dreams needs support always me...  "
      ]
     },
     "execution_count": 15,
     "metadata": {},
     "output_type": "execute_result"
    }
   ],
   "source": [
    "df_cf.head()"
   ]
  },
  {
   "cell_type": "code",
   "execution_count": 29,
   "metadata": {},
   "outputs": [],
   "source": [
    "X = df_cf.clean_text\n",
    "y = df_cf.Fatma_violence"
   ]
  },
  {
   "cell_type": "code",
   "execution_count": 30,
   "metadata": {},
   "outputs": [],
   "source": [
    "n_topics = 5 # number of topics\n",
    "n_iter = 500 # number of iterations\n",
    "\n",
    "# vectorizer: ignore English stopwords & words that occur less than 5 times\n",
    "cvectorizer = CountVectorizer(min_df=5, stop_words='english')\n",
    "cvz = cvectorizer.fit_transform(X)\n",
    "\n",
    "# train an LDA model\n",
    "lda_model = lda.LDA(n_topics=n_topics, n_iter=n_iter)\n",
    "X_topics = lda_model.fit_transform(cvz)"
   ]
  },
  {
   "cell_type": "code",
   "execution_count": 31,
   "metadata": {},
   "outputs": [
    {
     "name": "stdout",
     "output_type": "stream",
     "text": [
      "[t-SNE] Computing pairwise distances...\n",
      "[t-SNE] Computing 91 nearest neighbors...\n",
      "[t-SNE] Computed conditional probabilities for sample 1000 / 1214\n",
      "[t-SNE] Computed conditional probabilities for sample 1214 / 1214\n",
      "[t-SNE] Mean sigma: 0.000000\n",
      "[t-SNE] KL divergence after 100 iterations with early exaggeration: 0.126401\n",
      "[t-SNE] Error after 400 iterations: 0.126401\n"
     ]
    }
   ],
   "source": [
    "# a t-SNE model\n",
    "# angle value close to 1 means sacrificing accuracy for speed\n",
    "# pca initializtion usually leads to better results \n",
    "tsne_model = TSNE(n_components=2, verbose=1, random_state=0, angle=.99, init='pca')\n",
    "\n",
    "# 20-D -> 2-D\n",
    "tsne_lda = tsne_model.fit_transform(X_topics)"
   ]
  },
  {
   "cell_type": "code",
   "execution_count": 32,
   "metadata": {},
   "outputs": [],
   "source": [
    "n_top_words = 5 # number of keywords we show\n",
    "\n",
    "# 20 colors\n",
    "colormap = np.array([\"#1f77b4\", \"#FF0000\", '#6AA84F', '#E69138', '#A64D79'])"
   ]
  },
  {
   "cell_type": "code",
   "execution_count": 33,
   "metadata": {},
   "outputs": [],
   "source": [
    "_lda_keys = []\n",
    "for i in xrange(X_topics.shape[0]):\n",
    "  _lda_keys +=  X_topics[i].argmax(),"
   ]
  },
  {
   "cell_type": "code",
   "execution_count": 34,
   "metadata": {},
   "outputs": [],
   "source": [
    "topic_summaries = []\n",
    "topic_word = lda_model.topic_word_  # all topic words\n",
    "vocab = cvectorizer.get_feature_names()\n",
    "for i, topic_dist in enumerate(topic_word):\n",
    "  topic_words = np.array(vocab)[np.argsort(topic_dist)][:-(n_top_words + 1):-1] # get!\n",
    "  topic_summaries.append(' '.join(topic_words)) # append!"
   ]
  },
  {
   "cell_type": "code",
   "execution_count": 35,
   "metadata": {},
   "outputs": [],
   "source": [
    "topic_word = lda_model.topic_word_ "
   ]
  },
  {
   "cell_type": "code",
   "execution_count": 36,
   "metadata": {},
   "outputs": [],
   "source": [
    "threshold = 0.5\n",
    "_idx = np.amax(X_topics, axis=1) > threshold  # idx of doc that above the threshold\n",
    "X_topics = X_topics[_idx]"
   ]
  },
  {
   "cell_type": "code",
   "execution_count": 37,
   "metadata": {},
   "outputs": [
    {
     "data": {
      "text/plain": [
       "[u'erdogan media minister world prime',\n",
       " u'erdogan people solidarity says stop',\n",
       " u'police square government ankara people',\n",
       " u'gas police tear people water',\n",
       " u'bbc occupyturkey world live news']"
      ]
     },
     "execution_count": 37,
     "metadata": {},
     "output_type": "execute_result"
    }
   ],
   "source": [
    "topic_summaries"
   ]
  },
  {
   "cell_type": "code",
   "execution_count": 38,
   "metadata": {},
   "outputs": [
    {
     "data": {
      "text/plain": [
       "<bokeh.models.renderers.GlyphRenderer at 0x7fb98b215390>"
      ]
     },
     "execution_count": 38,
     "metadata": {},
     "output_type": "execute_result"
    }
   ],
   "source": [
    "title = 'CF LDA viz'\n",
    "num_example = len(X_topics)\n",
    "\n",
    "plot_lda = bp.figure(plot_width=1400, plot_height=1100,\n",
    "                     title=title,\n",
    "                     tools=\"pan,wheel_zoom,box_zoom,reset,hover,previewsave\",\n",
    "                     x_axis_type=None, y_axis_type=None, min_border=1)\n",
    "\n",
    "plot_lda.scatter(x=tsne_lda[:, 0], y=tsne_lda[:, 1],\n",
    "                 color=colormap[_lda_keys][:num_example],\n",
    "                 source=bp.ColumnDataSource({\n",
    "                   \"content\": X[:num_example],\n",
    "                   \"topic_key\": _lda_keys[:num_example]\n",
    "                   }))"
   ]
  },
  {
   "cell_type": "code",
   "execution_count": 39,
   "metadata": {},
   "outputs": [],
   "source": [
    "# randomly choose a news (within a topic) coordinate as the crucial words coordinate\n",
    "topic_coord = np.empty((X_topics.shape[1], 2)) * np.nan\n",
    "for topic_num in _lda_keys:\n",
    "  if not np.isnan(topic_coord).any():\n",
    "    break\n",
    "  topic_coord[topic_num] = tsne_lda[_lda_keys.index(topic_num)]\n",
    "\n",
    "# plot crucial words\n",
    "for i in xrange(X_topics.shape[1]):\n",
    "  plot_lda.text(topic_coord[i, 0], topic_coord[i, 1], [topic_summaries[i]])\n",
    "\n",
    "# hover tools\n",
    "hover = plot_lda.select(dict(type=HoverTool))\n",
    "hover.tooltips = {\"content\": \"@content - topic: @topic_key\"}\n",
    "\n",
    "# save the plot\n",
    "save(plot_lda, '{}.html'.format(title))"
   ]
  },
  {
   "cell_type": "code",
   "execution_count": 40,
   "metadata": {},
   "outputs": [
    {
     "name": "stdout",
     "output_type": "stream",
     "text": [
      "(2.9418838162883194, -34.415646587183147, [u'erdogan media minister world prime'])\n",
      "(-0.918207332198132, -8.0732219821592217, [u'erdogan people solidarity says stop'])\n",
      "(75.5093946707415, 26.509066386176386, [u'police square government ankara people'])\n",
      "(-12.131781009558738, 73.075920254828816, [u'gas police tear people water'])\n",
      "(-3.1848470633987791, 3.5888876298540859, [u'bbc occupyturkey world live news'])\n"
     ]
    }
   ],
   "source": [
    "for i in xrange(X_topics.shape[1]):\n",
    "  print(topic_coord[i, 0], topic_coord[i, 1], [topic_summaries[i]])"
   ]
  },
  {
   "cell_type": "code",
   "execution_count": 41,
   "metadata": {},
   "outputs": [
    {
     "data": {
      "text/plain": [
       "(917, 5)"
      ]
     },
     "execution_count": 41,
     "metadata": {},
     "output_type": "execute_result"
    }
   ],
   "source": [
    "X_topics.shape"
   ]
  },
  {
   "cell_type": "code",
   "execution_count": null,
   "metadata": {},
   "outputs": [],
   "source": []
  },
  {
   "cell_type": "code",
   "execution_count": null,
   "metadata": {},
   "outputs": [],
   "source": []
  }
 ],
 "metadata": {
  "kernelspec": {
   "display_name": "Python 2",
   "language": "python",
   "name": "python2"
  },
  "language_info": {
   "codemirror_mode": {
    "name": "ipython",
    "version": 2
   },
   "file_extension": ".py",
   "mimetype": "text/x-python",
   "name": "python",
   "nbconvert_exporter": "python",
   "pygments_lexer": "ipython2",
   "version": "2.7.12"
  }
 },
 "nbformat": 4,
 "nbformat_minor": 2
}
