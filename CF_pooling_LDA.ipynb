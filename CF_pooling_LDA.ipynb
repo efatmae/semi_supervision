{
 "cells": [
  {
   "cell_type": "code",
   "execution_count": 3,
   "metadata": {},
   "outputs": [],
   "source": [
    "import pandas as pd\n",
    "import numpy as np\n",
    "import lda\n",
    "from sklearn.feature_extraction.text import CountVectorizer\n",
    "from sklearn.manifold import TSNE\n",
    "import bokeh.plotting as bp\n",
    "from bokeh.plotting import save\n",
    "from bokeh.models import HoverTool\n",
    "import os"
   ]
  },
  {
   "cell_type": "code",
   "execution_count": 39,
   "metadata": {},
   "outputs": [],
   "source": [
    "data_list = []\n",
    "directory = os.path.join(\"Data/tweets_by_date/\")\n",
    "for root,dirs,files in os.walk(directory):\n",
    "    for file in files:\n",
    "       if file.endswith(\".csv\"):\n",
    "           dataframe = pd.read_csv(\"Data/tweets_by_date/\" + file)\n",
    "           data_list.append(dataframe.values.tolist())\n"
   ]
  },
  {
   "cell_type": "code",
   "execution_count": 58,
   "metadata": {},
   "outputs": [
    {
     "data": {
      "text/plain": [
       "135"
      ]
     },
     "execution_count": 58,
     "metadata": {},
     "output_type": "execute_result"
    }
   ],
   "source": [
    "len(data_list[1])"
   ]
  },
  {
   "cell_type": "code",
   "execution_count": 72,
   "metadata": {},
   "outputs": [],
   "source": [
    "Data = []\n",
    "for i in data_list:\n",
    "                Data.append(''.join(\"\".join(e) for e in i))"
   ]
  },
  {
   "cell_type": "code",
   "execution_count": 73,
   "metadata": {},
   "outputs": [
    {
     "data": {
      "text/plain": [
       "26"
      ]
     },
     "execution_count": 73,
     "metadata": {},
     "output_type": "execute_result"
    }
   ],
   "source": [
    "len(Data)"
   ]
  },
  {
   "cell_type": "code",
   "execution_count": 75,
   "metadata": {},
   "outputs": [],
   "source": [
    "X = Data"
   ]
  },
  {
   "cell_type": "code",
   "execution_count": 76,
   "metadata": {},
   "outputs": [
    {
     "name": "stderr",
     "output_type": "stream",
     "text": [
      "INFO:lda:n_documents: 26\n",
      "INFO:lda:vocab_size: 441\n",
      "INFO:lda:n_words: 3066\n",
      "INFO:lda:n_topics: 5\n",
      "INFO:lda:n_iter: 500\n",
      "/Users/fatma/anaconda2/envs/py35/lib/python3.5/site-packages/lda/utils.py:55: FutureWarning: Conversion of the second argument of issubdtype from `int` to `np.signedinteger` is deprecated. In future, it will be treated as `np.int64 == np.dtype(int).type`.\n",
      "  if sparse and not np.issubdtype(doc_word.dtype, int):\n",
      "INFO:lda:<0> log likelihood: -27664\n",
      "INFO:lda:<10> log likelihood: -20469\n",
      "INFO:lda:<20> log likelihood: -20082\n",
      "INFO:lda:<30> log likelihood: -19999\n",
      "INFO:lda:<40> log likelihood: -19977\n",
      "INFO:lda:<50> log likelihood: -19916\n",
      "INFO:lda:<60> log likelihood: -19951\n",
      "INFO:lda:<70> log likelihood: -19946\n",
      "INFO:lda:<80> log likelihood: -19805\n",
      "INFO:lda:<90> log likelihood: -19814\n",
      "INFO:lda:<100> log likelihood: -19855\n",
      "INFO:lda:<110> log likelihood: -19882\n",
      "INFO:lda:<120> log likelihood: -19958\n",
      "INFO:lda:<130> log likelihood: -19954\n",
      "INFO:lda:<140> log likelihood: -19893\n",
      "INFO:lda:<150> log likelihood: -19900\n",
      "INFO:lda:<160> log likelihood: -20023\n",
      "INFO:lda:<170> log likelihood: -19922\n",
      "INFO:lda:<180> log likelihood: -19761\n",
      "INFO:lda:<190> log likelihood: -19868\n",
      "INFO:lda:<200> log likelihood: -19833\n",
      "INFO:lda:<210> log likelihood: -19836\n",
      "INFO:lda:<220> log likelihood: -19790\n",
      "INFO:lda:<230> log likelihood: -19947\n",
      "INFO:lda:<240> log likelihood: -19883\n",
      "INFO:lda:<250> log likelihood: -19791\n",
      "INFO:lda:<260> log likelihood: -19834\n",
      "INFO:lda:<270> log likelihood: -19773\n",
      "INFO:lda:<280> log likelihood: -19672\n",
      "INFO:lda:<290> log likelihood: -19674\n",
      "INFO:lda:<300> log likelihood: -19624\n",
      "INFO:lda:<310> log likelihood: -19764\n",
      "INFO:lda:<320> log likelihood: -19642\n",
      "INFO:lda:<330> log likelihood: -19609\n",
      "INFO:lda:<340> log likelihood: -19614\n",
      "INFO:lda:<350> log likelihood: -19696\n",
      "INFO:lda:<360> log likelihood: -19681\n",
      "INFO:lda:<370> log likelihood: -19675\n",
      "INFO:lda:<380> log likelihood: -19661\n",
      "INFO:lda:<390> log likelihood: -19661\n",
      "INFO:lda:<400> log likelihood: -19804\n",
      "INFO:lda:<410> log likelihood: -19753\n",
      "INFO:lda:<420> log likelihood: -19684\n",
      "INFO:lda:<430> log likelihood: -19682\n",
      "INFO:lda:<440> log likelihood: -19708\n",
      "INFO:lda:<450> log likelihood: -19783\n",
      "INFO:lda:<460> log likelihood: -19674\n",
      "INFO:lda:<470> log likelihood: -19670\n",
      "INFO:lda:<480> log likelihood: -19667\n",
      "INFO:lda:<490> log likelihood: -19634\n",
      "INFO:lda:<499> log likelihood: -19692\n"
     ]
    }
   ],
   "source": [
    "n_topics =5 # number of topics\n",
    "n_iter = 500 # number of iterations\n",
    "\n",
    "# vectorizer: ignore English stopwords & words that occur less than 5 times\n",
    "cvectorizer = CountVectorizer(min_df=3, stop_words='english')\n",
    "cvz = cvectorizer.fit_transform(X)\n",
    "\n",
    "# train an LDA model\n",
    "lda_model = lda.LDA(n_topics=n_topics, n_iter=n_iter)\n",
    "X_topics = lda_model.fit_transform(cvz)"
   ]
  },
  {
   "cell_type": "code",
   "execution_count": 77,
   "metadata": {},
   "outputs": [
    {
     "name": "stdout",
     "output_type": "stream",
     "text": [
      "[t-SNE] Computing 25 nearest neighbors...\n",
      "[t-SNE] Indexed 26 samples in 0.001s...\n",
      "[t-SNE] Computed neighbors for 26 samples in 0.211s...\n",
      "[t-SNE] Computed conditional probabilities for sample 26 / 26\n",
      "[t-SNE] Mean sigma: 1125899906842624.000000\n",
      "[t-SNE] KL divergence after 250 iterations with early exaggeration: 45.965565\n",
      "[t-SNE] Error after 950 iterations: 0.579410\n"
     ]
    }
   ],
   "source": [
    "# a t-SNE model\n",
    "# angle value close to 1 means sacrificing accuracy for speed\n",
    "# pca initializtion usually leads to better results \n",
    "tsne_model = TSNE(n_components=2, verbose=1, random_state=0, angle=.99, init='pca')\n",
    "\n",
    "# 20-D -> 2-D\n",
    "tsne_lda = tsne_model.fit_transform(X_topics)"
   ]
  },
  {
   "cell_type": "code",
   "execution_count": 78,
   "metadata": {},
   "outputs": [],
   "source": [
    "n_top_words = 5 # number of keywords we show\n",
    "\n",
    "# 20 colors\n",
    "colormap = np.array([\"#1f77b4\", \"#FF0000\", '#6AA84F', '#E69138', '#A64D79'])#, "
   ]
  },
  {
   "cell_type": "code",
   "execution_count": 79,
   "metadata": {},
   "outputs": [],
   "source": [
    "_lda_keys = []\n",
    "for i in range(X_topics.shape[0]):\n",
    "  _lda_keys +=  X_topics[i].argmax(),"
   ]
  },
  {
   "cell_type": "code",
   "execution_count": 80,
   "metadata": {},
   "outputs": [],
   "source": [
    "topic_summaries = []\n",
    "topic_word = lda_model.topic_word_  # all topic words\n",
    "vocab = cvectorizer.get_feature_names()\n",
    "for i, topic_dist in enumerate(topic_word):\n",
    "  topic_words = np.array(vocab)[np.argsort(topic_dist)][:-(n_top_words + 1):-1] # get!\n",
    "  topic_summaries.append(' '.join(topic_words)) # append!"
   ]
  },
  {
   "cell_type": "code",
   "execution_count": 81,
   "metadata": {},
   "outputs": [],
   "source": [
    "topic_word = lda_model.topic_word_ "
   ]
  },
  {
   "cell_type": "code",
   "execution_count": 82,
   "metadata": {},
   "outputs": [],
   "source": [
    "threshold = 0.5\n",
    "_idx = np.amax(X_topics, axis=1) > threshold  # idx of doc that above the threshold\n",
    "X_topics = X_topics[_idx]"
   ]
  },
  {
   "cell_type": "code",
   "execution_count": 83,
   "metadata": {},
   "outputs": [
    {
     "data": {
      "text/plain": [
       "['erdogan says minister man syria',\n",
       " 'world live government ankara day',\n",
       " 'like need new arrested understand',\n",
       " 'media peaceful social video international',\n",
       " 'police gas people tear square']"
      ]
     },
     "execution_count": 83,
     "metadata": {},
     "output_type": "execute_result"
    }
   ],
   "source": [
    "topic_summaries"
   ]
  },
  {
   "cell_type": "code",
   "execution_count": 85,
   "metadata": {},
   "outputs": [
    {
     "data": {
      "text/plain": [
       "[4, 4, 1, 4, 3, 3, 0, 1, 4, 1, 0, 4, 0, 0, 0, 4, 4, 4, 0, 0, 0, 1, 1, 1, 0, 2]"
      ]
     },
     "execution_count": 85,
     "metadata": {},
     "output_type": "execute_result"
    }
   ],
   "source": [
    "_lda_keys"
   ]
  },
  {
   "cell_type": "code",
   "execution_count": 107,
   "metadata": {},
   "outputs": [
    {
     "name": "stderr",
     "output_type": "stream",
     "text": [
      "/Users/fatma/anaconda2/envs/py35/lib/python3.5/site-packages/bokeh/models/sources.py:110: BokehUserWarning: ColumnDataSource's columns must be of the same length. Current lengths: ('line_color', 3), ('x', 26), ('y', 26)\n",
      "  \"Current lengths: %s\" % \", \".join(sorted(str((k, len(v))) for k, v in data.items())), BokehUserWarning))\n",
      "/Users/fatma/anaconda2/envs/py35/lib/python3.5/site-packages/bokeh/models/sources.py:110: BokehUserWarning: ColumnDataSource's columns must be of the same length. Current lengths: ('fill_color', 3), ('line_color', 3), ('x', 26), ('y', 26)\n",
      "  \"Current lengths: %s\" % \", \".join(sorted(str((k, len(v))) for k, v in data.items())), BokehUserWarning))\n"
     ]
    },
    {
     "data": {
      "text/html": [
       "<div style=\"display: table;\"><div style=\"display: table-row;\"><div style=\"display: table-cell;\"><b title=\"bokeh.models.renderers.GlyphRenderer\">GlyphRenderer</b>(</div><div style=\"display: table-cell;\">id&nbsp;=&nbsp;'a9cc65e7-0d29-4bff-916b-4641ec7e4dba', <span id=\"77984155-baa6-4946-8d02-44d25ee0b799\" style=\"cursor: pointer;\">&hellip;)</span></div></div><div class=\"aa4543af-ffce-4931-83b3-6b2e5e2f25c8\" style=\"display: none;\"><div style=\"display: table-cell;\"></div><div style=\"display: table-cell;\">data_source&nbsp;=&nbsp;ColumnDataSource(id='49bd5b5d-319f-4142-93ac-7df8b76dd5d3', ...),</div></div><div class=\"aa4543af-ffce-4931-83b3-6b2e5e2f25c8\" style=\"display: none;\"><div style=\"display: table-cell;\"></div><div style=\"display: table-cell;\">glyph&nbsp;=&nbsp;Circle(id='b2690643-d83f-4880-b310-42b1edbfb7b4', ...),</div></div><div class=\"aa4543af-ffce-4931-83b3-6b2e5e2f25c8\" style=\"display: none;\"><div style=\"display: table-cell;\"></div><div style=\"display: table-cell;\">hover_glyph&nbsp;=&nbsp;None,</div></div><div class=\"aa4543af-ffce-4931-83b3-6b2e5e2f25c8\" style=\"display: none;\"><div style=\"display: table-cell;\"></div><div style=\"display: table-cell;\">js_event_callbacks&nbsp;=&nbsp;{},</div></div><div class=\"aa4543af-ffce-4931-83b3-6b2e5e2f25c8\" style=\"display: none;\"><div style=\"display: table-cell;\"></div><div style=\"display: table-cell;\">js_property_callbacks&nbsp;=&nbsp;{},</div></div><div class=\"aa4543af-ffce-4931-83b3-6b2e5e2f25c8\" style=\"display: none;\"><div style=\"display: table-cell;\"></div><div style=\"display: table-cell;\">level&nbsp;=&nbsp;'glyph',</div></div><div class=\"aa4543af-ffce-4931-83b3-6b2e5e2f25c8\" style=\"display: none;\"><div style=\"display: table-cell;\"></div><div style=\"display: table-cell;\">muted&nbsp;=&nbsp;False,</div></div><div class=\"aa4543af-ffce-4931-83b3-6b2e5e2f25c8\" style=\"display: none;\"><div style=\"display: table-cell;\"></div><div style=\"display: table-cell;\">muted_glyph&nbsp;=&nbsp;None,</div></div><div class=\"aa4543af-ffce-4931-83b3-6b2e5e2f25c8\" style=\"display: none;\"><div style=\"display: table-cell;\"></div><div style=\"display: table-cell;\">name&nbsp;=&nbsp;None,</div></div><div class=\"aa4543af-ffce-4931-83b3-6b2e5e2f25c8\" style=\"display: none;\"><div style=\"display: table-cell;\"></div><div style=\"display: table-cell;\">nonselection_glyph&nbsp;=&nbsp;Circle(id='d8e99281-4b74-46d7-80bb-6e5f25b228c2', ...),</div></div><div class=\"aa4543af-ffce-4931-83b3-6b2e5e2f25c8\" style=\"display: none;\"><div style=\"display: table-cell;\"></div><div style=\"display: table-cell;\">selection_glyph&nbsp;=&nbsp;None,</div></div><div class=\"aa4543af-ffce-4931-83b3-6b2e5e2f25c8\" style=\"display: none;\"><div style=\"display: table-cell;\"></div><div style=\"display: table-cell;\">subscribed_events&nbsp;=&nbsp;[],</div></div><div class=\"aa4543af-ffce-4931-83b3-6b2e5e2f25c8\" style=\"display: none;\"><div style=\"display: table-cell;\"></div><div style=\"display: table-cell;\">tags&nbsp;=&nbsp;[],</div></div><div class=\"aa4543af-ffce-4931-83b3-6b2e5e2f25c8\" style=\"display: none;\"><div style=\"display: table-cell;\"></div><div style=\"display: table-cell;\">view&nbsp;=&nbsp;CDSView(id='61923b3e-1739-4b25-949c-fdf26a3aa36c', ...),</div></div><div class=\"aa4543af-ffce-4931-83b3-6b2e5e2f25c8\" style=\"display: none;\"><div style=\"display: table-cell;\"></div><div style=\"display: table-cell;\">visible&nbsp;=&nbsp;True,</div></div><div class=\"aa4543af-ffce-4931-83b3-6b2e5e2f25c8\" style=\"display: none;\"><div style=\"display: table-cell;\"></div><div style=\"display: table-cell;\">x_range_name&nbsp;=&nbsp;'default',</div></div><div class=\"aa4543af-ffce-4931-83b3-6b2e5e2f25c8\" style=\"display: none;\"><div style=\"display: table-cell;\"></div><div style=\"display: table-cell;\">y_range_name&nbsp;=&nbsp;'default')</div></div></div>\n",
       "<script>\n",
       "(function() {\n",
       "  var expanded = false;\n",
       "  var ellipsis = document.getElementById(\"77984155-baa6-4946-8d02-44d25ee0b799\");\n",
       "  ellipsis.addEventListener(\"click\", function() {\n",
       "    var rows = document.getElementsByClassName(\"aa4543af-ffce-4931-83b3-6b2e5e2f25c8\");\n",
       "    for (var i = 0; i < rows.length; i++) {\n",
       "      var el = rows[i];\n",
       "      el.style.display = expanded ? \"none\" : \"table-row\";\n",
       "    }\n",
       "    ellipsis.innerHTML = expanded ? \"&hellip;)\" : \"&lsaquo;&lsaquo;&lsaquo;\";\n",
       "    expanded = !expanded;\n",
       "  });\n",
       "})();\n",
       "</script>\n"
      ],
      "text/plain": [
       "bokeh.models.renderers.GlyphRenderer(\n",
       "    id='a9cc65e7-0d29-4bff-916b-4641ec7e4dba',\n",
       "    data_source=bokeh.models.sources.ColumnDataSource(\n",
       "        id='49bd5b5d-319f-4142-93ac-7df8b76dd5d3',\n",
       "        callback=None,\n",
       "        data={'fill_color': ['#A64D79', '#A64D79', '#FF0000'],\n",
       "         'line_color': ['#A64D79', '#A64D79', '#FF0000'],\n",
       "         'x': {'__ndarray__': '5qOVwlXEJcLTahNDQmhDQ4WJ7kJrTqnC8yycQFBUFMNcsRBCdEAtwQ1oGsNwiXpCWab7wpfbIUTkkovCof3iQn+ESUILAEXDFJe1wluwjUJdxy1CajrRwMzR78EIpgFDc5Dhwj+fkkE=',\n",
       "          'dtype': 'float32',\n",
       "          'shape': (26,)},\n",
       "         'y': {'__ndarray__': 'ZUciQnSQMkNq4ijCGb4XQtTbUEKQB+TBQWrRwlX5K0G2hVtDj7UHwsazocK7VErAx6owQ8acvkKzvMTC8AwIw83njUI8GZFChCIrw472kMK2aAxDnO4GQmm/z0LBogpDpFLHQr+/M8M=',\n",
       "          'dtype': 'float32',\n",
       "          'shape': (26,)}},\n",
       "        js_event_callbacks={},\n",
       "        js_property_callbacks={},\n",
       "        name=None,\n",
       "        selected=bokeh.models.selections.Selection(\n",
       "            id='9579687c-8d0b-4a1c-baa5-8751aad07f90',\n",
       "            indices=[],\n",
       "            js_event_callbacks={},\n",
       "            js_property_callbacks={},\n",
       "            line_indices=[],\n",
       "            multiline_indices={},\n",
       "            name=None,\n",
       "            subscribed_events=[],\n",
       "            tags=[]),\n",
       "        selection_policy=bokeh.models.selections.UnionRenderers(\n",
       "            id='7b610584-0b7a-4a2a-ab83-c1f2f3512c2c',\n",
       "            js_event_callbacks={},\n",
       "            js_property_callbacks={},\n",
       "            name=None,\n",
       "            subscribed_events=[],\n",
       "            tags=[]),\n",
       "        subscribed_events=[],\n",
       "        tags=[]),\n",
       "    glyph=bokeh.models.markers.Circle(\n",
       "        id='b2690643-d83f-4880-b310-42b1edbfb7b4',\n",
       "        angle={'units': 'rad', 'value': 0.0},\n",
       "        fill_alpha={'value': 1.0},\n",
       "        fill_color={'field': 'fill_color'},\n",
       "        js_event_callbacks={},\n",
       "        js_property_callbacks={},\n",
       "        line_alpha={'value': 1.0},\n",
       "        line_cap='butt',\n",
       "        line_color={'field': 'line_color'},\n",
       "        line_dash=[],\n",
       "        line_dash_offset=0,\n",
       "        line_join='bevel',\n",
       "        line_width={'value': 1},\n",
       "        name=None,\n",
       "        radius=None,\n",
       "        radius_dimension='x',\n",
       "        size={'units': 'screen', 'value': 4},\n",
       "        subscribed_events=[],\n",
       "        tags=[],\n",
       "        x={'field': 'x'},\n",
       "        y={'field': 'y'}),\n",
       "    hover_glyph=None,\n",
       "    js_event_callbacks={},\n",
       "    js_property_callbacks={},\n",
       "    level='glyph',\n",
       "    muted=False,\n",
       "    muted_glyph=None,\n",
       "    name=None,\n",
       "    nonselection_glyph=bokeh.models.markers.Circle(\n",
       "        id='d8e99281-4b74-46d7-80bb-6e5f25b228c2',\n",
       "        angle={'units': 'rad', 'value': 0.0},\n",
       "        fill_alpha={'value': 0.1},\n",
       "        fill_color={'value': '#1f77b4'},\n",
       "        js_event_callbacks={},\n",
       "        js_property_callbacks={},\n",
       "        line_alpha={'value': 0.1},\n",
       "        line_cap='butt',\n",
       "        line_color={'value': '#1f77b4'},\n",
       "        line_dash=[],\n",
       "        line_dash_offset=0,\n",
       "        line_join='bevel',\n",
       "        line_width={'value': 1},\n",
       "        name=None,\n",
       "        radius=None,\n",
       "        radius_dimension='x',\n",
       "        size={'units': 'screen', 'value': 4},\n",
       "        subscribed_events=[],\n",
       "        tags=[],\n",
       "        x={'field': 'x'},\n",
       "        y={'field': 'y'}),\n",
       "    selection_glyph=None,\n",
       "    subscribed_events=[],\n",
       "    tags=[],\n",
       "    view=bokeh.models.sources.CDSView(\n",
       "        id='61923b3e-1739-4b25-949c-fdf26a3aa36c',\n",
       "        filters=[],\n",
       "        js_event_callbacks={},\n",
       "        js_property_callbacks={},\n",
       "        name=None,\n",
       "        source=bokeh.models.sources.ColumnDataSource(\n",
       "            id='49bd5b5d-319f-4142-93ac-7df8b76dd5d3',\n",
       "            callback=None,\n",
       "            data={'fill_color': ['#A64D79', '#A64D79', '#FF0000'],\n",
       "             'line_color': ['#A64D79', '#A64D79', '#FF0000'],\n",
       "             'x': {'__ndarray__': '5qOVwlXEJcLTahNDQmhDQ4WJ7kJrTqnC8yycQFBUFMNcsRBCdEAtwQ1oGsNwiXpCWab7wpfbIUTkkovCof3iQn+ESUILAEXDFJe1wluwjUJdxy1CajrRwMzR78EIpgFDc5Dhwj+fkkE=',\n",
       "              'dtype': 'float32',\n",
       "              'shape': (26,)},\n",
       "             'y': {'__ndarray__': 'ZUciQnSQMkNq4ijCGb4XQtTbUEKQB+TBQWrRwlX5K0G2hVtDj7UHwsazocK7VErAx6owQ8acvkKzvMTC8AwIw83njUI8GZFChCIrw472kMK2aAxDnO4GQmm/z0LBogpDpFLHQr+/M8M=',\n",
       "              'dtype': 'float32',\n",
       "              'shape': (26,)}},\n",
       "            js_event_callbacks={},\n",
       "            js_property_callbacks={},\n",
       "            name=None,\n",
       "            selected=bokeh.models.selections.Selection(\n",
       "                id='9579687c-8d0b-4a1c-baa5-8751aad07f90',\n",
       "                indices=[],\n",
       "                js_event_callbacks={},\n",
       "                js_property_callbacks={},\n",
       "                line_indices=[],\n",
       "                multiline_indices={},\n",
       "                name=None,\n",
       "                subscribed_events=[],\n",
       "                tags=[]),\n",
       "            selection_policy=bokeh.models.selections.UnionRenderers(\n",
       "                id='7b610584-0b7a-4a2a-ab83-c1f2f3512c2c',\n",
       "                js_event_callbacks={},\n",
       "                js_property_callbacks={},\n",
       "                name=None,\n",
       "                subscribed_events=[],\n",
       "                tags=[]),\n",
       "            subscribed_events=[],\n",
       "            tags=[]),\n",
       "        subscribed_events=[],\n",
       "        tags=[]),\n",
       "    visible=True,\n",
       "    x_range_name='default',\n",
       "    y_range_name='default')"
      ]
     },
     "execution_count": 107,
     "metadata": {},
     "output_type": "execute_result"
    }
   ],
   "source": [
    "title = 'CF pooling LDA viz'\n",
    "num_example = len(X_topics)\n",
    "\n",
    "plot_lda = bp.figure(plot_width=1400, plot_height=1100,\n",
    "                     title=title,\n",
    "                     tools=\"pan,wheel_zoom,box_zoom,reset,hover,previewsave\",\n",
    "                     x_axis_type=None, y_axis_type=None, min_border=1)\n",
    "\n",
    "#source = ColumnDataSource(data=dict(x=a_list, y=an_array))\n",
    "data_dict = dict(x=tsne_lda[:, 0], y=tsne_lda[:, 1])\n",
    "data = pd.DataFrame(data_dict, columns = ['content', 'topic'])\n",
    "\n",
    "source = bp.ColumnDataSource(data=data)\n",
    "\n",
    "plot_lda.scatter(x=tsne_lda[:, 0], y=tsne_lda[:, 1],\n",
    "                 color=colormap[_lda_keys][:num_example])\n",
    "#plot_lda.scatter(x='x', y='y',\n",
    "#                 color=colormap[_lda_keys][:num_example], source=source)"
   ]
  },
  {
   "cell_type": "code",
   "execution_count": 108,
   "metadata": {},
   "outputs": [
    {
     "name": "stderr",
     "output_type": "stream",
     "text": [
      "/Users/fatma/anaconda2/envs/py35/lib/python3.5/site-packages/bokeh/io/saving.py:123: UserWarning: save() called but no resources were supplied and output_file(...) was never called, defaulting to resources.CDN\n",
      "  warn(\"save() called but no resources were supplied and output_file(...) was never called, defaulting to resources.CDN\")\n",
      "/Users/fatma/anaconda2/envs/py35/lib/python3.5/site-packages/bokeh/io/saving.py:136: UserWarning: save() called but no title was supplied and output_file(...) was never called, using default title 'Bokeh Plot'\n",
      "  warn(\"save() called but no title was supplied and output_file(...) was never called, using default title 'Bokeh Plot'\")\n"
     ]
    },
    {
     "data": {
      "text/plain": [
       "'/Users/fatma/PhD/Git/semi_supervision/semi_supervision/CF pooling LDA viz.html'"
      ]
     },
     "execution_count": 108,
     "metadata": {},
     "output_type": "execute_result"
    }
   ],
   "source": [
    "# randomly choose a news (within a topic) coordinate as the crucial words coordinate\n",
    "topic_coord = np.empty((X_topics.shape[1], 2)) * np.nan\n",
    "for topic_num in _lda_keys:\n",
    "  if not np.isnan(topic_coord).any():\n",
    "    break\n",
    "  topic_coord[topic_num] = tsne_lda[_lda_keys.index(topic_num)]\n",
    "\n",
    "# plot crucial words\n",
    "for i in range(X_topics.shape[1]):\n",
    "  plot_lda.text(topic_coord[i, 0], topic_coord[i, 1], [topic_summaries[i]])\n",
    "\n",
    "# hover tools\n",
    "hover = plot_lda.select(dict(type=HoverTool))\n",
    "hover.tooltips = {\"content\": \"@content - topic: @topic_key\"}\n",
    "\n",
    "# save the plot\n",
    "save(plot_lda, '{}.html'.format(title))"
   ]
  },
  {
   "cell_type": "code",
   "execution_count": null,
   "metadata": {},
   "outputs": [],
   "source": []
  }
 ],
 "metadata": {
  "kernelspec": {
   "display_name": "Python 3",
   "language": "python",
   "name": "python3"
  },
  "language_info": {
   "codemirror_mode": {
    "name": "ipython",
    "version": 3
   },
   "file_extension": ".py",
   "mimetype": "text/x-python",
   "name": "python",
   "nbconvert_exporter": "python",
   "pygments_lexer": "ipython3",
   "version": "3.5.3"
  }
 },
 "nbformat": 4,
 "nbformat_minor": 2
}
