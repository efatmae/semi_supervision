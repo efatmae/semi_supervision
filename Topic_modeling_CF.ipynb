{
 "cells": [
  {
   "cell_type": "code",
   "execution_count": 1,
   "metadata": {
    "collapsed": true
   },
   "outputs": [],
   "source": [
    "from sklearn.decomposition import NMF, LatentDirichletAllocation, TruncatedSVD\n",
    "from sklearn.feature_extraction.text import CountVectorizer\n",
    "import pandas as pd"
   ]
  },
  {
   "cell_type": "code",
   "execution_count": 2,
   "metadata": {
    "collapsed": true
   },
   "outputs": [],
   "source": [
    "df_cf = pd.read_csv('Data/CF_Fatma_label_confidence_judgments_finalized_clean_text_28_05_2018.csv')"
   ]
  },
  {
   "cell_type": "code",
   "execution_count": 3,
   "metadata": {
    "collapsed": true
   },
   "outputs": [],
   "source": [
    "X = df_cf.clean_text\n",
    "y = df_cf.Fatma_violence"
   ]
  },
  {
   "cell_type": "code",
   "execution_count": 4,
   "metadata": {
    "collapsed": true
   },
   "outputs": [],
   "source": [
    "BOW = CountVectorizer(ngram_range=(1, 2),stop_words='english',  min_df=3)\n",
    "X = BOW.fit_transform(X)"
   ]
  },
  {
   "cell_type": "code",
   "execution_count": 5,
   "metadata": {
    "collapsed": true
   },
   "outputs": [],
   "source": [
    "NUM_TOPICS = 4"
   ]
  },
  {
   "cell_type": "code",
   "execution_count": 6,
   "metadata": {
    "collapsed": false
   },
   "outputs": [
    {
     "name": "stdout",
     "output_type": "stream",
     "text": [
      "(1214, 4)\n"
     ]
    }
   ],
   "source": [
    "# Build a Latent Dirichlet Allocation Model\n",
    "lda_model = LatentDirichletAllocation(n_topics=NUM_TOPICS, max_iter=10, learning_method='online')\n",
    "lda_Z = lda_model.fit_transform(X)\n",
    "print(lda_Z.shape)  # (NO_DOCUMENTS, NO_TOPICS)"
   ]
  },
  {
   "cell_type": "code",
   "execution_count": 7,
   "metadata": {
    "collapsed": false
   },
   "outputs": [
    {
     "name": "stdout",
     "output_type": "stream",
     "text": [
      "(1214, 4)\n"
     ]
    }
   ],
   "source": [
    "# Build a Non-Negative Matrix Factorization Model\n",
    "nmf_model = NMF(n_components=NUM_TOPICS)\n",
    "nmf_Z = nmf_model.fit_transform(X)\n",
    "print(nmf_Z.shape)  # (NO_DOCUMENTS, NO_TOPICS)"
   ]
  },
  {
   "cell_type": "code",
   "execution_count": 8,
   "metadata": {
    "collapsed": false
   },
   "outputs": [
    {
     "name": "stdout",
     "output_type": "stream",
     "text": [
      "(1214, 4)\n"
     ]
    }
   ],
   "source": [
    "# Build a Latent Semantic Indexing Model\n",
    "lsi_model = TruncatedSVD(n_components=NUM_TOPICS)\n",
    "lsi_Z = lsi_model.fit_transform(X)\n",
    "print(lsi_Z.shape)  # (NO_DOCUMENTS, NO_TOPICS)"
   ]
  },
  {
   "cell_type": "code",
   "execution_count": 9,
   "metadata": {
    "collapsed": false
   },
   "outputs": [
    {
     "name": "stdout",
     "output_type": "stream",
     "text": [
      "[ 0.12507403  0.12502471  0.62486863  0.12503264]\n",
      "[ 0.00084719  0.00228189  0.          0.        ]\n",
      "[ 0.00482919  0.00845152  0.001058   -0.00158344]\n"
     ]
    }
   ],
   "source": [
    "# Let's see how the first document in the corpus looks like in different topic spaces\n",
    "print(lda_Z[0])\n",
    "print(nmf_Z[0])\n",
    "print(lsi_Z[0])"
   ]
  },
  {
   "cell_type": "code",
   "execution_count": 10,
   "metadata": {
    "collapsed": true
   },
   "outputs": [],
   "source": [
    "def print_topics(model, vectorizer, top_n=10):\n",
    "    for idx, topic in enumerate(model.components_):\n",
    "        print(\"Topic %d:\" % (idx))\n",
    "        print([(vectorizer.get_feature_names()[i], topic[i])\n",
    "                        for i in topic.argsort()[:-top_n - 1:-1]])"
   ]
  },
  {
   "cell_type": "code",
   "execution_count": 14,
   "metadata": {
    "collapsed": false
   },
   "outputs": [
    {
     "ename": "ImportError",
     "evalue": "cannot import name LabelSet",
     "output_type": "error",
     "traceback": [
      "\u001b[1;31m---------------------------------------------------------------------------\u001b[0m",
      "\u001b[1;31mImportError\u001b[0m                               Traceback (most recent call last)",
      "\u001b[1;32m<ipython-input-14-010ac2171dd3>\u001b[0m in \u001b[0;36m<module>\u001b[1;34m()\u001b[0m\n\u001b[0;32m      1\u001b[0m \u001b[1;32mfrom\u001b[0m \u001b[0mbokeh\u001b[0m\u001b[1;33m.\u001b[0m\u001b[0mio\u001b[0m \u001b[1;32mimport\u001b[0m \u001b[0mpush_notebook\u001b[0m\u001b[1;33m,\u001b[0m \u001b[0mshow\u001b[0m\u001b[1;33m,\u001b[0m \u001b[0moutput_notebook\u001b[0m\u001b[1;33m\u001b[0m\u001b[0m\n\u001b[0;32m      2\u001b[0m \u001b[1;32mfrom\u001b[0m \u001b[0mbokeh\u001b[0m\u001b[1;33m.\u001b[0m\u001b[0mplotting\u001b[0m \u001b[1;32mimport\u001b[0m \u001b[0mfigure\u001b[0m\u001b[1;33m\u001b[0m\u001b[0m\n\u001b[1;32m----> 3\u001b[1;33m \u001b[1;32mfrom\u001b[0m \u001b[0mbokeh\u001b[0m\u001b[1;33m.\u001b[0m\u001b[0mmodels\u001b[0m \u001b[1;32mimport\u001b[0m \u001b[0mLabelSet\u001b[0m\u001b[1;33m,\u001b[0m \u001b[0mColumnDataSource\u001b[0m\u001b[1;33m\u001b[0m\u001b[0m\n\u001b[0m",
      "\u001b[1;31mImportError\u001b[0m: cannot import name LabelSet"
     ]
    }
   ],
   "source": [
    "from bokeh.io import push_notebook, show, output_notebook\n",
    "from bokeh.plotting import figure\n",
    "from bokeh.models import LabelSet, ColumnDataSource\n"
   ]
  },
  {
   "cell_type": "code",
   "execution_count": 11,
   "metadata": {
    "collapsed": false
   },
   "outputs": [
    {
     "name": "stdout",
     "output_type": "stream",
     "text": [
      "LDA Model:\n",
      "Topic 0:\n",
      "[(u'gas', 70.937746356953355), (u'tear', 54.605082091944148), (u'police', 48.842229166530828), (u'tear gas', 47.461903698646758), (u'ankara', 33.971837429015459), (u'live', 25.203422088639673), (u'photo', 22.718217224625608), (u'standing', 21.722752248379567), (u'square', 21.281233988739075), (u'water', 20.001287608461706)]\n",
      "Topic 1:\n",
      "[(u'erdogan', 27.184700621678967), (u'minister', 23.590061159329405), (u'world', 22.160293457467347), (u'prime', 21.294687581340234), (u'syria', 18.695669572824301), (u'prime minister', 18.492535571558001), (u'support', 16.401100896728742), (u'stop', 16.28558788809082), (u'media', 15.783042290165328), (u'want', 15.736570058030509)]\n",
      "Topic 2:\n",
      "[(u'police', 143.04737544798499), (u'square', 49.86204527314446), (u'people', 45.402168796959536), (u'news', 38.613913481980525), (u'bbc', 26.346147021035947), (u'riot', 22.880114888690002), (u'government', 22.772597452447258), (u'today', 22.55287694229407), (u'right', 21.796177039521513), (u'attack', 21.479566221119661)]\n",
      "Topic 3:\n",
      "[(u'erdogan', 81.813792958449113), (u'people', 38.445405075230511), (u'occupyturkey', 27.718901497119649), (u'media', 25.175662185709839), (u'like', 20.682054763490743), (u'says', 20.345548328252519), (u'solidarity', 20.075897338878352), (u'government', 16.304375058658998), (u'crackdown', 16.292330074300253), (u'cnn', 15.211376887656687)]\n",
      "====================\n",
      "NMF Model:\n",
      "Topic 0:\n",
      "[(u'police', 3.981677869958042), (u'square', 0.9217379569452675), (u'people', 0.50852777840840502), (u'riot', 0.47122271413117156), (u'riot police', 0.43141560774999488), (u'attack', 0.35442530153138652), (u'ankara', 0.33324016117494892), (u'violence', 0.28975472360406346), (u'government', 0.22032584421131146), (u'police attack', 0.21810921469591066)]\n",
      "Topic 1:\n",
      "[(u'erdogan', 3.1208211595583486), (u'says', 0.66060289971288377), (u'people', 0.63530504460497972), (u'mon', 0.58025794653502849), (u'minister', 0.50571247306759071), (u'prime', 0.40516497179360855), (u'prime minister', 0.37189531676953558), (u'media', 0.36628209012436874), (u'world', 0.29991267068296507), (u'news', 0.25156489032413926)]\n",
      "Topic 2:\n",
      "[(u'gas', 2.2415869742055246), (u'tear', 1.9538723797064999), (u'tear gas', 1.8388423703379584), (u'water', 0.42832079612276852), (u'photo', 0.2660921153085446), (u'water cannon', 0.22962524568827714), (u'cannon', 0.22962524568827714), (u'square', 0.19686073390604916), (u'gas water', 0.17267318017951774), (u'fired', 0.16413534071995484)]\n",
      "Topic 3:\n",
      "[(u'need', 1.8515449071462853), (u'understand', 1.7791848090897449), (u'things', 1.7763940237678149), (u'violence', 0.41297077966861867), (u'police violence', 0.35751332661607976), (u'stop', 0.35493885245304535), (u'want', 0.35289915199814531), (u'good', 0.34113674645429681), (u'burgers', 0.31011095581164205), (u'better', 0.30913339481882957)]\n",
      "====================\n",
      "LSI Model:\n",
      "Topic 0:\n",
      "[(u'police', 0.82869962982067946), (u'gas', 0.22223483467616015), (u'square', 0.21138568767623836), (u'tear', 0.18466654966505625), (u'tear gas', 0.16882539850243333), (u'people', 0.14658041999701032), (u'erdogan', 0.10928376348548022), (u'riot', 0.095585938415939625), (u'riot police', 0.087918747389473334), (u'ankara', 0.079563577708714903)]\n",
      "Topic 1:\n",
      "[(u'erdogan', 0.81995170158566655), (u'says', 0.17383742778960545), (u'people', 0.16743853158947367), (u'mon', 0.15317432494134042), (u'minister', 0.1338009055749701), (u'prime', 0.10657811620736253), (u'prime minister', 0.097763777588928027), (u'media', 0.097441092586812023), (u'world', 0.08150633258456208), (u'news', 0.064858863884769871)]\n",
      "Topic 2:\n",
      "[(u'police', 0.35215870360815926), (u'need', 0.12334865497448365), (u'understand', 0.11376369110128882), (u'things', 0.11365022045222255), (u'attack', 0.050743796050676311), (u'violence', 0.050060656931552511), (u'police violence', 0.048609343617458542), (u'riot', 0.039851906817386491), (u'riot police', 0.034774442230230705), (u'police attack', 0.033509168848283769)]\n",
      "Topic 3:\n",
      "[(u'need', 0.53559980710406108), (u'understand', 0.51594572110124159), (u'things', 0.51567750062172713), (u'violence', 0.10699646807179611), (u'gas', 0.10622417585922525), (u'want', 0.10468188954470987), (u'stop', 0.10232282854100044), (u'tear', 0.10000083491441254), (u'good', 0.097740868663906466), (u'police violence', 0.093638463763105056)]\n",
      "====================\n"
     ]
    }
   ],
   "source": [
    "print(\"LDA Model:\")\n",
    "print_topics(lda_model, BOW)\n",
    "print(\"=\" * 20)\n",
    " \n",
    "print(\"NMF Model:\")\n",
    "print_topics(nmf_model, BOW)\n",
    "print(\"=\" * 20)\n",
    " \n",
    "print(\"LSI Model:\")\n",
    "print_topics(lsi_model, BOW)\n",
    "print(\"=\" * 20)\n",
    " "
   ]
  },
  {
   "cell_type": "code",
   "execution_count": 31,
   "metadata": {
    "collapsed": false
   },
   "outputs": [
    {
     "name": "stderr",
     "output_type": "stream",
     "text": [
      "/home/fatma/anaconda2/lib/python2.7/site-packages/ipykernel/__main__.py:7: BokehDeprecationWarning: bokeh.models.sources.from_df was deprecated in Bokeh 0.9.3; please use ColumnDataSource initializer instead\n",
      "/home/fatma/anaconda2/lib/python2.7/site-packages/bokeh/models/sources.py:130: UserWarning: Method deprecated in Bokeh 0.9.3\n",
      "  warnings.warn(\"Method deprecated in Bokeh 0.9.3\")\n"
     ]
    },
    {
     "ename": "NameError",
     "evalue": "name 'LabelSet' is not defined",
     "output_type": "error",
     "traceback": [
      "\u001b[1;31m---------------------------------------------------------------------------\u001b[0m",
      "\u001b[1;31mNameError\u001b[0m                                 Traceback (most recent call last)",
      "\u001b[1;32m<ipython-input-31-b788c365a5ea>\u001b[0m in \u001b[0;36m<module>\u001b[1;34m()\u001b[0m\n\u001b[0;32m      6\u001b[0m \u001b[1;33m\u001b[0m\u001b[0m\n\u001b[0;32m      7\u001b[0m \u001b[0msource\u001b[0m \u001b[1;33m=\u001b[0m \u001b[0mColumnDataSource\u001b[0m\u001b[1;33m(\u001b[0m\u001b[0mColumnDataSource\u001b[0m\u001b[1;33m.\u001b[0m\u001b[0mfrom_df\u001b[0m\u001b[1;33m(\u001b[0m\u001b[0mdf\u001b[0m\u001b[1;33m)\u001b[0m\u001b[1;33m)\u001b[0m\u001b[1;33m\u001b[0m\u001b[0m\n\u001b[1;32m----> 8\u001b[1;33m labels = LabelSet(x=\"x\", y=\"y\", text=\"document\", y_offset=8,\n\u001b[0m\u001b[0;32m      9\u001b[0m                   \u001b[0mtext_font_size\u001b[0m\u001b[1;33m=\u001b[0m\u001b[1;34m\"8pt\"\u001b[0m\u001b[1;33m,\u001b[0m \u001b[0mtext_color\u001b[0m\u001b[1;33m=\u001b[0m\u001b[1;34m\"#555555\"\u001b[0m\u001b[1;33m,\u001b[0m\u001b[1;33m\u001b[0m\u001b[0m\n\u001b[0;32m     10\u001b[0m                   source=source, text_align='center')\n",
      "\u001b[1;31mNameError\u001b[0m: name 'LabelSet' is not defined"
     ]
    }
   ],
   "source": [
    "svd = TruncatedSVD(n_components=2)\n",
    "documents_2d = svd.fit_transform(X)\n",
    " \n",
    "df = pd.DataFrame(columns=['x', 'y', 'document'])\n",
    "df['x'], df['y'], df['document'] = documents_2d[:,0], documents_2d[:,1], range(len(df_cf.clean_text))\n",
    " \n",
    "source = ColumnDataSource(ColumnDataSource.from_df(df))\n",
    "labels = LabelSet(x=\"x\", y=\"y\", text=\"document\", y_offset=8,\n",
    "                  text_font_size=\"8pt\", text_color=\"#555555\",\n",
    "                  source=source, text_align='center')\n",
    " \n",
    "plot = figure(plot_width=600, plot_height=600)\n",
    "plot.circle(\"x\", \"y\", size=12, source=source, line_color=\"black\", fill_alpha=0.8)\n",
    "plot.add_layout(labels)\n",
    "show(plot, notebook_handle=True)\n",
    " "
   ]
  },
  {
   "cell_type": "code",
   "execution_count": null,
   "metadata": {
    "collapsed": true
   },
   "outputs": [],
   "source": []
  }
 ],
 "metadata": {
  "kernelspec": {
   "display_name": "Python 2",
   "language": "python",
   "name": "python2"
  },
  "language_info": {
   "codemirror_mode": {
    "name": "ipython",
    "version": 2
   },
   "file_extension": ".py",
   "mimetype": "text/x-python",
   "name": "python",
   "nbconvert_exporter": "python",
   "pygments_lexer": "ipython2",
   "version": "2.7.12"
  }
 },
 "nbformat": 4,
 "nbformat_minor": 2
}
