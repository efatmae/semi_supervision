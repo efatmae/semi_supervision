{
 "cells": [
  {
   "cell_type": "code",
   "execution_count": 1,
   "metadata": {},
   "outputs": [],
   "source": [
    "from sklearn.decomposition import NMF, LatentDirichletAllocation, TruncatedSVD\n",
    "from sklearn.feature_extraction.text import CountVectorizer\n",
    "import pandas as pd"
   ]
  },
  {
   "cell_type": "code",
   "execution_count": 10,
   "metadata": {},
   "outputs": [],
   "source": [
    "df_cf = pd.read_csv('Data/unlabeled_turkish_tweets_processd.csv')"
   ]
  },
  {
   "cell_type": "code",
   "execution_count": 11,
   "metadata": {},
   "outputs": [],
   "source": [
    "df_cf = df_cf.dropna()"
   ]
  },
  {
   "cell_type": "code",
   "execution_count": 12,
   "metadata": {},
   "outputs": [],
   "source": [
    "df_cf = df_cf.drop_duplicates()"
   ]
  },
  {
   "cell_type": "code",
   "execution_count": 17,
   "metadata": {},
   "outputs": [],
   "source": [
    "X = df_cf.clean_text [:3000]\n",
    "y = df_cf.Fatma_violence[:3000]"
   ]
  },
  {
   "cell_type": "code",
   "execution_count": 18,
   "metadata": {},
   "outputs": [],
   "source": [
    "BOW = CountVectorizer(ngram_range=(1, 2),stop_words='english',  min_df=3)\n",
    "X = BOW.fit_transform(X)"
   ]
  },
  {
   "cell_type": "code",
   "execution_count": 19,
   "metadata": {},
   "outputs": [],
   "source": [
    "NUM_TOPICS = 4"
   ]
  },
  {
   "cell_type": "code",
   "execution_count": 20,
   "metadata": {},
   "outputs": [
    {
     "name": "stderr",
     "output_type": "stream",
     "text": [
      "/Users/fatma/anaconda2/envs/py35/lib/python3.5/site-packages/sklearn/decomposition/online_lda.py:294: DeprecationWarning: n_topics has been renamed to n_components in version 0.19 and will be removed in 0.21\n",
      "  DeprecationWarning)\n"
     ]
    },
    {
     "name": "stdout",
     "output_type": "stream",
     "text": [
      "(3000, 4)\n"
     ]
    }
   ],
   "source": [
    "# Build a Latent Dirichlet Allocation Model\n",
    "lda_model = LatentDirichletAllocation(n_topics=NUM_TOPICS, max_iter=10, learning_method='online')\n",
    "lda_Z = lda_model.fit_transform(X)\n",
    "print(lda_Z.shape)  # (NO_DOCUMENTS, NO_TOPICS)"
   ]
  },
  {
   "cell_type": "code",
   "execution_count": 21,
   "metadata": {},
   "outputs": [
    {
     "name": "stdout",
     "output_type": "stream",
     "text": [
      "(3000, 4)\n"
     ]
    }
   ],
   "source": [
    "# Build a Non-Negative Matrix Factorization Model\n",
    "nmf_model = NMF(n_components=NUM_TOPICS)\n",
    "nmf_Z = nmf_model.fit_transform(X)\n",
    "print(nmf_Z.shape)  # (NO_DOCUMENTS, NO_TOPICS)"
   ]
  },
  {
   "cell_type": "code",
   "execution_count": 22,
   "metadata": {},
   "outputs": [
    {
     "name": "stdout",
     "output_type": "stream",
     "text": [
      "(3000, 4)\n"
     ]
    }
   ],
   "source": [
    "# Build a Latent Semantic Indexing Model\n",
    "lsi_model = TruncatedSVD(n_components=NUM_TOPICS)\n",
    "lsi_Z = lsi_model.fit_transform(X)\n",
    "print(lsi_Z.shape)  # (NO_DOCUMENTS, NO_TOPICS)"
   ]
  },
  {
   "cell_type": "code",
   "execution_count": 23,
   "metadata": {},
   "outputs": [
    {
     "name": "stdout",
     "output_type": "stream",
     "text": [
      "[0.03724235 0.5157499  0.03577325 0.4112345 ]\n",
      "[0.14262248 0.         0.         0.        ]\n",
      "[ 0.86250592 -0.50511293  0.05410639 -0.06691029]\n"
     ]
    }
   ],
   "source": [
    "print(lda_Z[0])\n",
    "print(nmf_Z[0])\n",
    "print(lsi_Z[0])"
   ]
  },
  {
   "cell_type": "code",
   "execution_count": 24,
   "metadata": {},
   "outputs": [],
   "source": [
    "def print_topics(model, vectorizer, top_n=10):\n",
    "    for idx, topic in enumerate(model.components_):\n",
    "        print(\"Topic %d:\" % (idx))\n",
    "        print([(vectorizer.get_feature_names()[i], topic[i])\n",
    "                        for i in topic.argsort()[:-top_n - 1:-1]])"
   ]
  },
  {
   "cell_type": "code",
   "execution_count": 25,
   "metadata": {},
   "outputs": [
    {
     "name": "stdout",
     "output_type": "stream",
     "text": [
      "LDA Model:\n",
      "Topic 0:\n",
      "[('turkey', 478.13654137943286), ('erdogan', 111.18552464961319), ('media', 90.23706578887908), ('today', 60.170807036496626), ('occupygezi', 59.14582912668048), ('going', 58.10236428661862), ('direngezipark', 54.29594181984419), ('says', 53.190294448981575), ('need', 48.33904474158845), ('minister', 44.24496019372758)]\n",
      "Topic 1:\n",
      "[('istanbul', 223.69851957197), ('park', 190.50240794360616), ('gezi', 181.53561088773122), ('taksim', 160.63745125598868), ('police', 154.39721731209252), ('protesters', 149.83473748556716), ('gezi park', 121.99360429420709), ('turkish', 116.59438595442268), ('turkey', 96.96891281392374), ('erdogan', 81.75296143390702)]\n",
      "Topic 2:\n",
      "[('occupygezi', 367.0010007182274), ('police', 311.49579459195206), ('taksim', 236.6810174343525), ('turkish', 171.20439761799554), ('istanbul', 167.6728542310802), ('people', 156.1096687104907), ('direngeziparki', 129.47244144988417), ('square', 99.8179183684798), ('gas', 92.69830998999507), ('taksim square', 84.43996382180893)]\n",
      "Topic 3:\n",
      "[('turkey', 846.6436537073217), ('protests', 164.09831636552073), ('istanbul', 113.9851836797602), ('occupygezi', 102.24172935367595), ('erdogan', 64.43558024677479), ('gas', 64.15132940249187), ('world', 61.20918612803828), ('new', 52.96926419689273), ('tear', 51.08896844589082), ('people', 50.291963651336445)]\n",
      "====================\n",
      "NMF Model:\n",
      "Topic 0:\n",
      "[('turkey', 6.8994806795711074), ('protests', 0.7089585554301587), ('erdogan', 0.30140296890973184), ('government', 0.2852113723373031), ('protesters', 0.24991791364222019), ('protests turkey', 0.21867721368571452), ('support', 0.18824089145856027), ('turkey protests', 0.18278183946611157), ('right', 0.17886613660519096), ('media', 0.17542865352314807)]\n",
      "Topic 1:\n",
      "[('taksim', 3.1498799046829866), ('police', 2.472027763514436), ('square', 1.8286246319845045), ('taksim square', 1.6767708538866277), ('gas', 1.0969585620485844), ('tear', 1.023537687419107), ('tear gas', 1.005954250137238), ('protesters', 0.7955594639570611), ('water', 0.5087298237804543), ('riot', 0.4063017233869288)]\n",
      "Topic 2:\n",
      "[('occupygezi', 4.6661016325370746), ('direngeziparki', 0.7848143642892628), ('people', 0.5749807803609571), ('occupygezi direngeziparki', 0.42191565001074344), ('turkish', 0.34272663342590026), ('police', 0.30288205646462685), ('turkey occupygezi', 0.28828954222188885), ('direngezipark', 0.2579796763927066), ('direnankara', 0.22539679318756653), ('direngeziparki occupygezi', 0.1914505006800877)]\n",
      "Topic 3:\n",
      "[('istanbul', 3.1042155832634655), ('park', 1.5701452125610873), ('gezi', 1.2999099922094146), ('turkish', 1.2886240565633191), ('gezi park', 1.1243301141847892), ('erdogan', 0.8536991173298494), ('police', 0.7173806302946938), ('protests', 0.704762878683933), ('protesters', 0.5651419975749472), ('protest', 0.261061591655436)]\n",
      "====================\n",
      "LSI Model:\n",
      "Topic 0:\n",
      "[('turkey', 0.8387776940540358), ('police', 0.22067722515064214), ('occupygezi', 0.20133431716578026), ('istanbul', 0.19053801048841099), ('taksim', 0.15566749038189073), ('protests', 0.12774893817642088), ('protesters', 0.12221186205654645), ('turkish', 0.10988299758731729), ('erdogan', 0.08957453507173255), ('square', 0.08099587257635733)]\n",
      "Topic 1:\n",
      "[('police', 0.3940064987155556), ('taksim', 0.3571366325962326), ('istanbul', 0.329091967009526), ('occupygezi', 0.2845020219614268), ('turkish', 0.20945416074913495), ('square', 0.1957898247402934), ('taksim square', 0.1790556542920126), ('protesters', 0.1486168476935543), ('gas', 0.13501167441096262), ('park', 0.12998184690128883)]\n",
      "Topic 2:\n",
      "[('istanbul', 0.2425966811540632), ('taksim', 0.19364103986401046), ('square', 0.18859878971357424), ('taksim square', 0.17499214856030532), ('police', 0.09172021135927066), ('tear gas', 0.08921556133859344), ('tear', 0.08706275140648535), ('gas', 0.08384717847575386), ('turkey', 0.055104761872972724), ('riot', 0.04650266634457495)]\n",
      "Topic 3:\n",
      "[('park', 0.37849809071325935), ('istanbul', 0.35686000284372926), ('gezi', 0.33034130439619086), ('gezi park', 0.2931870480101907), ('turkish', 0.17056890632087074), ('protests', 0.12345399592839161), ('erdogan', 0.12118844020302319), ('protesters', 0.061013702892340614), ('police', 0.060793448722831496), ('istanbul park', 0.04599454429830182)]\n",
      "====================\n"
     ]
    }
   ],
   "source": [
    "print(\"LDA Model:\")\n",
    "print_topics(lda_model, BOW)\n",
    "print(\"=\" * 20)\n",
    " \n",
    "print(\"NMF Model:\")\n",
    "print_topics(nmf_model, BOW)\n",
    "print(\"=\" * 20)\n",
    " \n",
    "print(\"LSI Model:\")\n",
    "print_topics(lsi_model, BOW)\n",
    "print(\"=\" * 20)\n",
    " "
   ]
  },
  {
   "cell_type": "code",
   "execution_count": 26,
   "metadata": {},
   "outputs": [],
   "source": [
    "from bokeh.io import push_notebook, show, output_notebook\n",
    "from bokeh.plotting import figure\n",
    "from bokeh.models import LabelSet, ColumnDataSource"
   ]
  },
  {
   "cell_type": "code",
   "execution_count": 32,
   "metadata": {},
   "outputs": [],
   "source": [
    "svd = TruncatedSVD(n_components=3)\n",
    "documents_2d = svd.fit_transform(X)\n",
    " \n",
    "df = pd.DataFrame(columns=['x', 'y', 'document'])\n",
    "df['x'], df['y'], df['document'] = documents_2d[:,0], documents_2d[:,1], range(len(df_cf.clean_text[:3000]))\n",
    " \n",
    "source = ColumnDataSource(ColumnDataSource.from_df(df))\n",
    "labels = LabelSet(x=\"x\", y=\"y\", text=\"document\", y_offset=8,\n",
    "                  text_font_size=\"8pt\", text_color=\"#555555\",\n",
    "                  source=source, text_align='center')\n",
    " \n",
    "plot = figure(plot_width=600, plot_height=600)\n",
    "plot.circle(\"x\", \"y\", size=12, source=source, line_color=\"black\", fill_alpha=0.8)\n",
    "plot.add_layout(labels)\n",
    "show(plot, notebook_handle=True)\n",
    " "
   ]
  },
  {
   "cell_type": "code",
   "execution_count": 33,
   "metadata": {},
   "outputs": [],
   "source": [
    "svd = TruncatedSVD(n_components= 3)\n",
    "words_2d = svd.fit_transform(X.T)\n",
    " \n",
    "df = pd.DataFrame(columns=['x', 'y', 'word'])\n",
    "df['x'], df['y'], df['word'] = words_2d[:,0], words_2d[:,1], BOW.get_feature_names()\n",
    " \n",
    "source = ColumnDataSource(ColumnDataSource.from_df(df))\n",
    "labels = LabelSet(x=\"x\", y=\"y\", text=\"word\", y_offset=8,\n",
    "                  text_font_size=\"8pt\", text_color=\"#555555\",\n",
    "                  source=source, text_align='center')\n",
    " \n",
    "plot = figure(plot_width=600, plot_height=600)\n",
    "plot.circle(\"x\", \"y\", size=12, source=source, line_color=\"black\", fill_alpha=0.8)\n",
    "plot.add_layout(labels)\n",
    "show(plot, notebook_handle=True)"
   ]
  },
  {
   "cell_type": "code",
   "execution_count": null,
   "metadata": {},
   "outputs": [],
   "source": []
  }
 ],
 "metadata": {
  "kernelspec": {
   "display_name": "Python 3",
   "language": "python",
   "name": "python3"
  },
  "language_info": {
   "codemirror_mode": {
    "name": "ipython",
    "version": 3
   },
   "file_extension": ".py",
   "mimetype": "text/x-python",
   "name": "python",
   "nbconvert_exporter": "python",
   "pygments_lexer": "ipython3",
   "version": "3.5.3"
  }
 },
 "nbformat": 4,
 "nbformat_minor": 2
}
