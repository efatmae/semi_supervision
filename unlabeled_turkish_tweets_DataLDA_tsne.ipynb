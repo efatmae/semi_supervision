{
 "cells": [
  {
   "cell_type": "code",
   "execution_count": 1,
   "metadata": {},
   "outputs": [],
   "source": [
    "import pandas as pd\n",
    "import numpy as np\n",
    "import lda\n",
    "from sklearn.feature_extraction.text import CountVectorizer\n",
    "from sklearn.manifold import TSNE\n",
    "import bokeh.plotting as bp\n",
    "from bokeh.plotting import save\n",
    "from bokeh.models import HoverTool"
   ]
  },
  {
   "cell_type": "code",
   "execution_count": 2,
   "metadata": {},
   "outputs": [],
   "source": [
    "df_cf = pd.read_csv('Data/unlabeled_turkish_tweets_processd.csv')"
   ]
  },
  {
   "cell_type": "code",
   "execution_count": 3,
   "metadata": {},
   "outputs": [],
   "source": [
    "df_cf = df_cf.drop_duplicates()\n",
    "df_cf = df_cf.dropna()"
   ]
  },
  {
   "cell_type": "code",
   "execution_count": 18,
   "metadata": {},
   "outputs": [],
   "source": [
    "df_cf = df_cf.sample(frac=0.1)\n",
    "\n",
    "X = df_cf.clean_text\n",
    "\n",
    "y = df_cf.Fatma_violence\n"
   ]
  },
  {
   "cell_type": "code",
   "execution_count": 19,
   "metadata": {},
   "outputs": [
    {
     "data": {
      "text/plain": [
       "2639"
      ]
     },
     "execution_count": 19,
     "metadata": {},
     "output_type": "execute_result"
    }
   ],
   "source": [
    "len(X)"
   ]
  },
  {
   "cell_type": "code",
   "execution_count": 20,
   "metadata": {},
   "outputs": [
    {
     "name": "stderr",
     "output_type": "stream",
     "text": [
      "INFO:lda:n_documents: 2639\n",
      "INFO:lda:vocab_size: 688\n",
      "INFO:lda:n_words: 13511\n",
      "INFO:lda:n_topics: 2\n",
      "INFO:lda:n_iter: 500\n",
      "WARNING:lda:all zero row in document-term matrix found\n",
      "/Users/fatma/anaconda2/envs/py35/lib/python3.5/site-packages/lda/utils.py:55: FutureWarning: Conversion of the second argument of issubdtype from `int` to `np.signedinteger` is deprecated. In future, it will be treated as `np.int64 == np.dtype(int).type`.\n",
      "  if sparse and not np.issubdtype(doc_word.dtype, int):\n",
      "INFO:lda:<0> log likelihood: -94833\n",
      "INFO:lda:<10> log likelihood: -81388\n",
      "INFO:lda:<20> log likelihood: -80903\n",
      "INFO:lda:<30> log likelihood: -80515\n",
      "INFO:lda:<40> log likelihood: -80284\n",
      "INFO:lda:<50> log likelihood: -80265\n",
      "INFO:lda:<60> log likelihood: -80103\n",
      "INFO:lda:<70> log likelihood: -79986\n",
      "INFO:lda:<80> log likelihood: -79914\n",
      "INFO:lda:<90> log likelihood: -79789\n",
      "INFO:lda:<100> log likelihood: -79934\n",
      "INFO:lda:<110> log likelihood: -79536\n",
      "INFO:lda:<120> log likelihood: -79610\n",
      "INFO:lda:<130> log likelihood: -79503\n",
      "INFO:lda:<140> log likelihood: -79427\n",
      "INFO:lda:<150> log likelihood: -79550\n",
      "INFO:lda:<160> log likelihood: -79433\n",
      "INFO:lda:<170> log likelihood: -79272\n",
      "INFO:lda:<180> log likelihood: -79333\n",
      "INFO:lda:<190> log likelihood: -79302\n",
      "INFO:lda:<200> log likelihood: -79268\n",
      "INFO:lda:<210> log likelihood: -79236\n",
      "INFO:lda:<220> log likelihood: -79150\n",
      "INFO:lda:<230> log likelihood: -79328\n",
      "INFO:lda:<240> log likelihood: -79219\n",
      "INFO:lda:<250> log likelihood: -79224\n",
      "INFO:lda:<260> log likelihood: -79265\n",
      "INFO:lda:<270> log likelihood: -79086\n",
      "INFO:lda:<280> log likelihood: -79178\n",
      "INFO:lda:<290> log likelihood: -79217\n",
      "INFO:lda:<300> log likelihood: -79284\n",
      "INFO:lda:<310> log likelihood: -79189\n",
      "INFO:lda:<320> log likelihood: -79058\n",
      "INFO:lda:<330> log likelihood: -79123\n",
      "INFO:lda:<340> log likelihood: -79047\n",
      "INFO:lda:<350> log likelihood: -78921\n",
      "INFO:lda:<360> log likelihood: -79072\n",
      "INFO:lda:<370> log likelihood: -78983\n",
      "INFO:lda:<380> log likelihood: -79010\n",
      "INFO:lda:<390> log likelihood: -78995\n",
      "INFO:lda:<400> log likelihood: -78890\n",
      "INFO:lda:<410> log likelihood: -78910\n",
      "INFO:lda:<420> log likelihood: -78977\n",
      "INFO:lda:<430> log likelihood: -78999\n",
      "INFO:lda:<440> log likelihood: -78951\n",
      "INFO:lda:<450> log likelihood: -78922\n",
      "INFO:lda:<460> log likelihood: -78898\n",
      "INFO:lda:<470> log likelihood: -78992\n",
      "INFO:lda:<480> log likelihood: -78992\n",
      "INFO:lda:<490> log likelihood: -78855\n",
      "INFO:lda:<499> log likelihood: -78879\n"
     ]
    }
   ],
   "source": [
    "n_topics = 2 # number of topics\n",
    "n_iter = 500 # number of iterations\n",
    "\n",
    "# vectorizer: ignore English stopwords & words that occur less than 5 times\n",
    "cvectorizer = CountVectorizer(min_df=5, stop_words='english')\n",
    "cvz = cvectorizer.fit_transform(X)\n",
    "\n",
    "# train an LDA model\n",
    "lda_model = lda.LDA(n_topics=n_topics, n_iter=n_iter)\n",
    "X_topics = lda_model.fit_transform(cvz)"
   ]
  },
  {
   "cell_type": "code",
   "execution_count": 21,
   "metadata": {},
   "outputs": [
    {
     "name": "stdout",
     "output_type": "stream",
     "text": [
      "[t-SNE] Computing 91 nearest neighbors...\n",
      "[t-SNE] Indexed 2639 samples in 0.002s...\n",
      "[t-SNE] Computed neighbors for 2639 samples in 0.099s...\n",
      "[t-SNE] Computed conditional probabilities for sample 1000 / 2639\n",
      "[t-SNE] Computed conditional probabilities for sample 2000 / 2639\n",
      "[t-SNE] Computed conditional probabilities for sample 2639 / 2639\n",
      "[t-SNE] Mean sigma: 0.000000\n",
      "[t-SNE] KL divergence after 250 iterations with early exaggeration: 18.427883\n",
      "[t-SNE] Error after 1000 iterations: -5.556423\n"
     ]
    }
   ],
   "source": [
    "# a t-SNE model\n",
    "# angle value close to 1 means sacrificing accuracy for speed\n",
    "# pca initializtion usually leads to better results \n",
    "tsne_model = TSNE(n_components=2, verbose=1, random_state=0, angle=.99, init='pca')\n",
    "\n",
    "# 20-D -> 2-D\n",
    "tsne_lda = tsne_model.fit_transform(X_topics)"
   ]
  },
  {
   "cell_type": "code",
   "execution_count": 22,
   "metadata": {},
   "outputs": [],
   "source": [
    "n_top_words = 5 # number of keywords we show\n",
    "\n",
    "# 20 colors\n",
    "colormap = np.array([\"#1f77b4\", \"#FF0000\", '#6AA84F', '#E69138', '#A64D79'])"
   ]
  },
  {
   "cell_type": "code",
   "execution_count": 23,
   "metadata": {},
   "outputs": [],
   "source": [
    "_lda_keys = []\n",
    "for i in range(X_topics.shape[0]):\n",
    "  _lda_keys +=  X_topics[i].argmax(),"
   ]
  },
  {
   "cell_type": "code",
   "execution_count": 24,
   "metadata": {},
   "outputs": [],
   "source": [
    "topic_summaries = []\n",
    "topic_word = lda_model.topic_word_  # all topic words\n",
    "vocab = cvectorizer.get_feature_names()\n",
    "for i, topic_dist in enumerate(topic_word):\n",
    "  topic_words = np.array(vocab)[np.argsort(topic_dist)][:-(n_top_words + 1):-1] # get!\n",
    "  topic_summaries.append(' '.join(topic_words)) # append!"
   ]
  },
  {
   "cell_type": "code",
   "execution_count": 25,
   "metadata": {},
   "outputs": [],
   "source": [
    "topic_word = lda_model.topic_word_ "
   ]
  },
  {
   "cell_type": "code",
   "execution_count": 26,
   "metadata": {},
   "outputs": [],
   "source": [
    "threshold = 0.5\n",
    "_idx = np.amax(X_topics, axis=1) > threshold  # idx of doc that above the threshold\n",
    "X_topics = X_topics[_idx]"
   ]
  },
  {
   "cell_type": "code",
   "execution_count": 27,
   "metadata": {},
   "outputs": [
    {
     "data": {
      "text/plain": [
       "['occupygezi police turkey istanbul taksim',\n",
       " 'turkey erdogan protests istanbul occupygezi']"
      ]
     },
     "execution_count": 27,
     "metadata": {},
     "output_type": "execute_result"
    }
   ],
   "source": [
    "topic_summaries"
   ]
  },
  {
   "cell_type": "code",
   "execution_count": 22,
   "metadata": {},
   "outputs": [
    {
     "data": {
      "text/plain": [
       "<bokeh.models.renderers.GlyphRenderer at 0x7fdd893935d0>"
      ]
     },
     "execution_count": 22,
     "metadata": {},
     "output_type": "execute_result"
    }
   ],
   "source": [
    "title = 'unlabeled turkish LDA viz'\n",
    "num_example = len(X_topics)\n",
    "\n",
    "plot_lda = bp.figure(plot_width=1400, plot_height=1100,\n",
    "                     title=title,\n",
    "                     tools=\"pan,wheel_zoom,box_zoom,reset,hover,previewsave\",\n",
    "                     x_axis_type=None, y_axis_type=None, min_border=1)\n",
    "\n",
    "plot_lda.scatter(x=tsne_lda[:, 0], y=tsne_lda[:, 1],\n",
    "                 color=colormap[_lda_keys][:num_example],\n",
    "                 source=bp.ColumnDataSource({\n",
    "                   \"content\": X[:num_example],\n",
    "                   \"topic_key\": _lda_keys[:num_example]\n",
    "                   }))"
   ]
  },
  {
   "cell_type": "code",
   "execution_count": 23,
   "metadata": {},
   "outputs": [
    {
     "name": "stderr",
     "output_type": "stream",
     "text": [
      "/home/fatma/anaconda2/lib/python2.7/site-packages/bokeh/io.py:371: UserWarning: save() called but no resources were supplied and output_file(...) was never called, defaulting to resources.CDN\n",
      "  warnings.warn(\"save() called but no resources were supplied and output_file(...) was never called, defaulting to resources.CDN\")\n",
      "/home/fatma/anaconda2/lib/python2.7/site-packages/bokeh/io.py:376: UserWarning: save() called but no title was supplied and output_file(...) was never called, using default title 'Bokeh Plot'\n",
      "  warnings.warn(\"save() called but no title was supplied and output_file(...) was never called, using default title 'Bokeh Plot'\")\n"
     ]
    }
   ],
   "source": [
    "# randomly choose a news (within a topic) coordinate as the crucial words coordinate\n",
    "topic_coord = np.empty((X_topics.shape[1], 2)) * np.nan\n",
    "for topic_num in _lda_keys:\n",
    "  if not np.isnan(topic_coord).any():\n",
    "    break\n",
    "  topic_coord[topic_num] = tsne_lda[_lda_keys.index(topic_num)]\n",
    "\n",
    "# plot crucial words\n",
    "for i in xrange(X_topics.shape[1]):\n",
    "  plot_lda.text(topic_coord[i, 0], topic_coord[i, 1], [topic_summaries[i]])\n",
    "\n",
    "# hover tools\n",
    "hover = plot_lda.select(dict(type=HoverTool))\n",
    "hover.tooltips = {\"content\": \"@content - topic: @topic_key\"}\n",
    "\n",
    "# save the plot\n",
    "save(plot_lda, '{}.html'.format(title))"
   ]
  },
  {
   "cell_type": "code",
   "execution_count": null,
   "metadata": {},
   "outputs": [],
   "source": []
  }
 ],
 "metadata": {
  "kernelspec": {
   "display_name": "Python 3",
   "language": "python",
   "name": "python3"
  },
  "language_info": {
   "codemirror_mode": {
    "name": "ipython",
    "version": 3
   },
   "file_extension": ".py",
   "mimetype": "text/x-python",
   "name": "python",
   "nbconvert_exporter": "python",
   "pygments_lexer": "ipython3",
   "version": "3.5.3"
  }
 },
 "nbformat": 4,
 "nbformat_minor": 2
}
